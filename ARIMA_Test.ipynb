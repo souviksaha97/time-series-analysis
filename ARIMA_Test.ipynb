{
 "cells": [
  {
   "cell_type": "code",
   "execution_count": 1,
   "metadata": {},
   "outputs": [
    {
     "name": "stderr",
     "output_type": "stream",
     "text": [
      "In C:\\Users\\souvi\\anaconda3\\envs\\tsa_course\\lib\\site-packages\\matplotlib\\mpl-data\\stylelib\\_classic_test.mplstyle: \n",
      "The savefig.frameon rcparam was deprecated in Matplotlib 3.1 and will be removed in 3.3.\n",
      "In C:\\Users\\souvi\\anaconda3\\envs\\tsa_course\\lib\\site-packages\\matplotlib\\mpl-data\\stylelib\\_classic_test.mplstyle: \n",
      "The verbose.level rcparam was deprecated in Matplotlib 3.1 and will be removed in 3.3.\n",
      "In C:\\Users\\souvi\\anaconda3\\envs\\tsa_course\\lib\\site-packages\\matplotlib\\mpl-data\\stylelib\\_classic_test.mplstyle: \n",
      "The verbose.fileo rcparam was deprecated in Matplotlib 3.1 and will be removed in 3.3.\n"
     ]
    }
   ],
   "source": [
    "import pandas as pd\n",
    "import numpy as np\n",
    "import seaborn as sns\n",
    "sns.set(style='whitegrid')\n",
    "%matplotlib inline"
   ]
  },
  {
   "cell_type": "code",
   "execution_count": 2,
   "metadata": {},
   "outputs": [],
   "source": [
    "from pmdarima import auto_arima"
   ]
  },
  {
   "cell_type": "code",
   "execution_count": 3,
   "metadata": {},
   "outputs": [],
   "source": [
    "import warnings\n",
    "warnings.filterwarnings('ignore')"
   ]
  },
  {
   "cell_type": "code",
   "execution_count": 4,
   "metadata": {},
   "outputs": [
    {
     "data": {
      "text/html": [
       "<div>\n",
       "<style scoped>\n",
       "    .dataframe tbody tr th:only-of-type {\n",
       "        vertical-align: middle;\n",
       "    }\n",
       "\n",
       "    .dataframe tbody tr th {\n",
       "        vertical-align: top;\n",
       "    }\n",
       "\n",
       "    .dataframe thead th {\n",
       "        text-align: right;\n",
       "    }\n",
       "</style>\n",
       "<table border=\"1\" class=\"dataframe\">\n",
       "  <thead>\n",
       "    <tr style=\"text-align: right;\">\n",
       "      <th></th>\n",
       "      <th>Unnamed: 0</th>\n",
       "      <th>India</th>\n",
       "    </tr>\n",
       "    <tr>\n",
       "      <th>Date</th>\n",
       "      <th></th>\n",
       "      <th></th>\n",
       "    </tr>\n",
       "  </thead>\n",
       "  <tbody>\n",
       "    <tr>\n",
       "      <th>2020-01-30</th>\n",
       "      <td>8</td>\n",
       "      <td>1</td>\n",
       "    </tr>\n",
       "    <tr>\n",
       "      <th>2020-01-31</th>\n",
       "      <td>9</td>\n",
       "      <td>1</td>\n",
       "    </tr>\n",
       "    <tr>\n",
       "      <th>2020-02-01</th>\n",
       "      <td>10</td>\n",
       "      <td>1</td>\n",
       "    </tr>\n",
       "    <tr>\n",
       "      <th>2020-02-02</th>\n",
       "      <td>11</td>\n",
       "      <td>2</td>\n",
       "    </tr>\n",
       "    <tr>\n",
       "      <th>2020-02-03</th>\n",
       "      <td>12</td>\n",
       "      <td>3</td>\n",
       "    </tr>\n",
       "  </tbody>\n",
       "</table>\n",
       "</div>"
      ],
      "text/plain": [
       "            Unnamed: 0  India\n",
       "Date                         \n",
       "2020-01-30           8      1\n",
       "2020-01-31           9      1\n",
       "2020-02-01          10      1\n",
       "2020-02-02          11      2\n",
       "2020-02-03          12      3"
      ]
     },
     "execution_count": 4,
     "metadata": {},
     "output_type": "execute_result"
    }
   ],
   "source": [
    "cvd19_confirmed = pd.read_csv('confirmed.csv', index_col='Date', parse_dates=True)[8:]\n",
    "cvd19_confirmed.index.freq = 'D'\n",
    "cvd19_confirmed.head()"
   ]
  },
  {
   "cell_type": "code",
   "execution_count": 5,
   "metadata": {},
   "outputs": [],
   "source": [
    "cvd19_confirmed = cvd19_confirmed.drop('Unnamed: 0', axis=1)"
   ]
  },
  {
   "cell_type": "code",
   "execution_count": 14,
   "metadata": {
    "scrolled": true
   },
   "outputs": [
    {
     "data": {
      "text/plain": [
       "pandas.core.frame.DataFrame"
      ]
     },
     "execution_count": 14,
     "metadata": {},
     "output_type": "execute_result"
    }
   ],
   "source": [
    "type(cvd19_confirmed)"
   ]
  },
  {
   "cell_type": "code",
   "execution_count": 7,
   "metadata": {
    "scrolled": true
   },
   "outputs": [
    {
     "name": "stdout",
     "output_type": "stream",
     "text": [
      "Fit ARIMA: order=(2, 2, 2); AIC=1858.172, BIC=1875.189, Fit time=0.955 seconds\n",
      "Fit ARIMA: order=(0, 2, 0); AIC=1876.018, BIC=1881.691, Fit time=0.000 seconds\n",
      "Fit ARIMA: order=(1, 2, 0); AIC=1855.294, BIC=1863.803, Fit time=0.078 seconds\n",
      "Fit ARIMA: order=(0, 2, 1); AIC=1855.704, BIC=1864.213, Fit time=0.089 seconds\n",
      "Fit ARIMA: order=(2, 2, 0); AIC=1855.225, BIC=1866.570, Fit time=0.164 seconds\n",
      "Fit ARIMA: order=(2, 2, 1); AIC=1857.049, BIC=1871.231, Fit time=0.355 seconds\n",
      "Fit ARIMA: order=(3, 2, 1); AIC=1855.947, BIC=1872.965, Fit time=0.583 seconds\n",
      "Fit ARIMA: order=(3, 2, 0); AIC=1856.765, BIC=1870.946, Fit time=0.209 seconds\n",
      "Total fit time: 3.093 seconds\n"
     ]
    }
   ],
   "source": [
    "pmd = auto_arima(cvd19_confirmed['India'], seasonal=False, trace=True)"
   ]
  },
  {
   "cell_type": "code",
   "execution_count": 8,
   "metadata": {},
   "outputs": [
    {
     "data": {
      "text/plain": [
       "{'callback': None,\n",
       " 'disp': 0,\n",
       " 'maxiter': 50,\n",
       " 'method': None,\n",
       " 'order': (2, 2, 0),\n",
       " 'out_of_sample_size': 0,\n",
       " 'scoring': 'mse',\n",
       " 'scoring_args': {},\n",
       " 'seasonal_order': None,\n",
       " 'solver': 'lbfgs',\n",
       " 'start_params': None,\n",
       " 'suppress_warnings': False,\n",
       " 'transparams': True,\n",
       " 'trend': None,\n",
       " 'with_intercept': True}"
      ]
     },
     "execution_count": 8,
     "metadata": {},
     "output_type": "execute_result"
    }
   ],
   "source": [
    "pmd.get_params()"
   ]
  },
  {
   "cell_type": "code",
   "execution_count": 9,
   "metadata": {},
   "outputs": [],
   "source": [
    "from statsmodels.tsa.arima_model import ARIMA"
   ]
  },
  {
   "cell_type": "code",
   "execution_count": 16,
   "metadata": {},
   "outputs": [],
   "source": [
    "def performARIMA(dataset, future=10):\n",
    "    pmd = auto_arima(dataset['India'], seasonal=False)\n",
    "    optimal = pmd.get_params()['order']\n",
    "    model=ARIMA(dataset['India'], order=optimal)\n",
    "    print('Order =', optimal)\n",
    "    fit = model.fit()\n",
    "    future_pred = pd.DataFrame()\n",
    "    future_pred['India'] = fit.predict(start=2, end=len(dataset)+future, typ='levels')\n",
    "    return future_pred"
   ]
  },
  {
   "cell_type": "code",
   "execution_count": 30,
   "metadata": {},
   "outputs": [
    {
     "name": "stdout",
     "output_type": "stream",
     "text": [
      "Pass 0\n",
      "Order = (2, 2, 0)\n",
      "Pass 1\n",
      "Order = (0, 2, 1)\n",
      "Pass 2\n",
      "Order = (1, 2, 2)\n",
      "                    India\n",
      "2020-06-09  276090.693747\n",
      "2020-06-10  286146.902218\n",
      "2020-06-11  296271.404702\n",
      "2020-06-12  306443.132117\n",
      "2020-06-13  316671.854860\n",
      "2020-06-14  326962.012871\n",
      "2020-06-15  337316.821201\n",
      "2020-06-16  347740.549194\n",
      "2020-06-17  358236.667415\n",
      "2020-06-18  368808.233294\n",
      "2020-06-19  379463.477434\n",
      "2020-06-20  390200.550165\n",
      "2020-06-21  401021.025495\n",
      "2020-06-22  411926.010022\n",
      "2020-06-23  422916.187101\n",
      "2020-06-24  433991.868266\n",
      "2020-06-25  445153.048763\n",
      "2020-06-26  456399.464462\n",
      "2020-06-27  467730.647861\n",
      "2020-06-28  479145.981338\n",
      "2020-06-29  490515.526181\n",
      "2020-06-30  501940.645513\n",
      "2020-07-01  513421.862577\n",
      "2020-07-02  524959.677587\n",
      "2020-07-03  536554.568749\n",
      "2020-07-04  548206.993223\n",
      "2020-07-05  559917.388054\n",
      "2020-07-06  571686.171053\n",
      "2020-07-07  583513.741647\n",
      "2020-07-08  595400.481686\n"
     ]
    }
   ],
   "source": [
    "# predicted = pd.DataFrame()\n",
    "predicted = cvd19_confirmed.copy(deep=True).dropna()\n",
    "# print(type(predicted))\n",
    "for i in range(3):\n",
    "    print('Pass', i)\n",
    "    temp = performARIMA(predicted, future=10).dropna()\n",
    "    predicted = temp.copy(deep=True)\n",
    "\n",
    "print(predicted.tail(30))"
   ]
  },
  {
   "cell_type": "code",
   "execution_count": 31,
   "metadata": {},
   "outputs": [
    {
     "data": {
      "text/plain": [
       "<matplotlib.axes._subplots.AxesSubplot at 0x269ac1ed128>"
      ]
     },
     "execution_count": 31,
     "metadata": {},
     "output_type": "execute_result"
    },
    {
     "data": {
      "image/png": "[encoded data removed]",
      "text/plain": [
       "<Figure size 432x288 with 1 Axes>"
      ]
     },
     "metadata": {
      "needs_background": "light"
     },
     "output_type": "display_data"
    }
   ],
   "source": [
    "predicted.plot()"
   ]
  },
  {
   "cell_type": "code",
   "execution_count": null,
   "metadata": {},
   "outputs": [],
   "source": []
  }
 ],
 "metadata": {
  "kernelspec": {
   "display_name": "Python 3",
   "language": "python",
   "name": "python3"
  },
  "language_info": {
   "codemirror_mode": {
    "name": "ipython",
    "version": 3
   },
   "file_extension": ".py",
   "mimetype": "text/x-python",
   "name": "python",
   "nbconvert_exporter": "python",
   "pygments_lexer": "ipython3",
   "version": "3.7.2"
  }
 },
 "nbformat": 4,
 "nbformat_minor": 2
}
